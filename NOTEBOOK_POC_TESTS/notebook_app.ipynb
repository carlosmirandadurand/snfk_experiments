{
 "metadata": {
  "kernelspec": {
   "display_name": "Streamlit Notebook",
   "name": "streamlit"
  }
 },
 "nbformat_minor": 5,
 "nbformat": 4,
 "cells": [
  {
   "cell_type": "code",
   "id": "3775908f-ca36-4846-8f38-5adca39217f2",
   "metadata": {
    "language": "python",
    "name": "cell1",
    "collapsed": false
   },
   "source": "# Import python packages\nimport streamlit as st\nimport pandas as pd\n\n# We can also use Snowpark for our analyses!\nfrom snowflake.snowpark.context import get_active_session\nsession = get_active_session()\n",
   "execution_count": null,
   "outputs": []
  },
  {
   "cell_type": "code",
   "id": "8d50cbf4-0c8d-4950-86cb-114990437ac9",
   "metadata": {
    "language": "sql",
    "name": "cell2"
   },
   "source": "-- Welcome to Snowflake Notebooks!\n-- Try out a SQL cell to generate some data.\nSELECT 'FRIDAY' as SNOWDAY, 0.2 as CHANCE_OF_SNOW\nUNION ALL\nSELECT 'SATURDAY',0.5\nUNION ALL \nSELECT 'SUNDAY', 0.9;",
   "execution_count": null,
   "outputs": []
  },
  {
   "cell_type": "code",
   "id": "c695373e-ac74-4b62-a1f1-08206cbd5c81",
   "metadata": {
    "language": "python",
    "name": "cell3"
   },
   "source": "# Then, we can use the python name to turn cell2 into a Pandas dataframe\nmy_df = cell2.to_pandas()\n\n# Chart the data\nst.subheader(\"Chance of SNOW ❄️\")\nst.line_chart(my_df, x='SNOWDAY', y='CHANCE_OF_SNOW')\n\n# Give it a go!\nst.subheader(\"Try it out yourself and show off your skills 🥇\")",
   "execution_count": null,
   "outputs": []
  },
  {
   "cell_type": "code",
   "id": "15968826-02d1-4e23-a0f8-533c0ce8c3b8",
   "metadata": {
    "language": "sql",
    "name": "cell4",
    "collapsed": false
   },
   "outputs": [],
   "source": "use database snowflake_sample_data;\nuse schema snowflake_sample_data.tpch_sf1;\n\nselect \n    C_MKTSEGMENT\n    ,count(*) as N\n    ,count(distinct c_custkey)\n    ,count(distinct c_nationkey)\nfrom  customer\ngroup by rollup(1)\norder by 1\n;\n",
   "execution_count": null
  },
  {
   "cell_type": "code",
   "id": "66c40486-3187-49ec-8d09-1a1b33d07fd3",
   "metadata": {
    "language": "python",
    "name": "cell4_plot",
    "collapsed": false
   },
   "outputs": [],
   "source": "my_df = cell4.to_pandas()\nmy_df = my_df[my_df['C_MKTSEGMENT'].notnull()]\n\n# Chart the data\nst.subheader(\"Customers per Segment\")\nst.bar_chart(my_df, x='C_MKTSEGMENT', y='N')\n\n# Give it a go!\nst.subheader(\"Customer Data\")",
   "execution_count": null
  },
  {
   "cell_type": "code",
   "id": "60cafa26-0b9f-4c38-b992-7fccf342a11a",
   "metadata": {
    "language": "sql",
    "name": "cell5",
    "collapsed": false
   },
   "outputs": [],
   "source": "select \n    O_ORDERSTATUS\n    ,O_SHIPPRIORITY\n    ,count(*)\n    ,count(distinct O_ORDERKEY)\n    ,count(distinct O_CUSTKEY)\n    ,count(distinct O_CLERK)\n    ,count(distinct O_ORDERDATE)\nfrom  orders\ngroup by rollup(1),2\norder by 1,2\n;",
   "execution_count": null
  }
 ]
}